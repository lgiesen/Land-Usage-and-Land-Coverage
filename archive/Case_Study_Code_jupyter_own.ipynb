{
 "cells": [
  {
   "cell_type": "markdown",
   "id": "c5c3db8a",
   "metadata": {
    "id": "c5c3db8a"
   },
   "source": [
    "# VM: Deep Learning mit Python - Model from scratch\n",
    "\n",
    "*Group: Leo Giesen, Johannes Kauffmann*\n",
    "\n",
    "Case Study: Create deep learning model to predict Land Use and Land Cover data drom satellite pictures."
   ]
  },
  {
   "cell_type": "code",
   "execution_count": null,
   "id": "opEjKvyLk4s2",
   "metadata": {
    "colab": {
     "base_uri": "https://localhost:8080/"
    },
    "id": "opEjKvyLk4s2",
    "outputId": "11c6e7b1-38c4-41c5-d341-997f98748022"
   },
   "outputs": [],
   "source": [
    "from google.colab import drive\n",
    "\n",
    "drive.mount('/content/gdrive')\n",
    "root_path = 'gdrive/My Drive/Wirtschaftsinformatik/lulc_data'"
   ]
  },
  {
   "cell_type": "code",
   "execution_count": null,
   "id": "5e03219a",
   "metadata": {
    "colab": {
     "base_uri": "https://localhost:8080/"
    },
    "id": "5e03219a",
    "outputId": "60b0887e-3c5e-4cfe-c2a2-90936f8e60c0"
   },
   "outputs": [],
   "source": [
    "# Imports\n",
    "\n",
    "%matplotlib inline\n",
    "import matplotlib.pyplot as plt\n",
    "import numpy as np\n",
    "import calendar\n",
    "import os\n",
    "import tensorflow as tf\n",
    "import keras\n",
    "from keras.models import Sequential\n",
    "from keras.layers import Dense, Flatten, Conv3D, MaxPooling3D, Dropout, BatchNormalization\n",
    "from sklearn.model_selection import train_test_split\n",
    "from sklearn.utils import class_weight\n",
    "from imblearn.over_sampling import RandomOverSampler\n",
    "import tensorflow_hub as hub\n",
    "from keras.callbacks import EarlyStopping"
   ]
  },
  {
   "cell_type": "markdown",
   "id": "92c7a889",
   "metadata": {
    "id": "92c7a889"
   },
   "source": [
    "**Define class names and channel names**"
   ]
  },
  {
   "cell_type": "code",
   "execution_count": null,
   "id": "f90bd882",
   "metadata": {
    "id": "f90bd882"
   },
   "outputs": [],
   "source": [
    "# Class names\n",
    "\n",
    "class_names = {\n",
    "    0: \"No Data\", \n",
    "    1: \"Cultivated Land\",\n",
    "    2: \"Forest\",\n",
    "    3: \"Grassland\",\n",
    "    4: \"Shrubland\",\n",
    "    5: \"Water\",\n",
    "    6: \"Wetlands\",\n",
    "    7: \"Tundra\",\n",
    "    8: \"Artificial Surface\",\n",
    "    9: \"Bareland\",\n",
    "    10: \"Snow and Ice\"\n",
    "}"
   ]
  },
  {
   "cell_type": "code",
   "execution_count": null,
   "id": "89bafeee",
   "metadata": {
    "id": "89bafeee"
   },
   "outputs": [],
   "source": [
    "# Channel names\n",
    "\n",
    "channel_names = {\n",
    "    1: \"Red\",\n",
    "    2: \"Green\",\n",
    "    3: \"Blue\",\n",
    "    4: \"NIR 1\",\n",
    "    5: \"NIR 2\",\n",
    "    6: \"NIR 3\"\n",
    "}"
   ]
  },
  {
   "cell_type": "markdown",
   "id": "622facde",
   "metadata": {
    "id": "622facde"
   },
   "source": [
    "**Loading data**"
   ]
  },
  {
   "cell_type": "code",
   "execution_count": null,
   "id": "64f8087f",
   "metadata": {
    "colab": {
     "base_uri": "https://localhost:8080/"
    },
    "id": "64f8087f",
    "outputId": "d4cdf26d-3448-46d3-d518-b6294da94a27"
   },
   "outputs": [],
   "source": [
    "data = data = np.load(root_path + '/train.npz')\n",
    "bands = data['bands'] # data: 10.000 patches, each for twelve months and with six channels. Resolution: 33x33 pixels\n",
    "lulc = data['lulc'] # labels for central pixel of patches (Land Use and Land Cover)\n",
    "print(bands.shape)\n",
    "print(lulc.shape)"
   ]
  },
  {
   "cell_type": "code",
   "execution_count": null,
   "id": "98968898",
   "metadata": {
    "colab": {
     "base_uri": "https://localhost:8080/"
    },
    "id": "98968898",
    "outputId": "fff73223-57bc-4740-cd4d-8eefc473f598"
   },
   "outputs": [],
   "source": [
    "# show number of instances per class\n",
    "\n",
    "count_classes = []\n",
    "for i in range(11): \n",
    "    val = np.count_nonzero(lulc == i)\n",
    "    print(\"class \"+str(i)+\": \"+str(val))\n",
    "    count_classes.append(val)\n",
    "#print(count_classes)"
   ]
  },
  {
   "cell_type": "markdown",
   "id": "6e3abcb8",
   "metadata": {
    "id": "6e3abcb8"
   },
   "source": [
    "--> Realization: Class 2 is over-represented. Classes 6, 7 and 10 are not present in the data set at all."
   ]
  },
  {
   "cell_type": "code",
   "execution_count": null,
   "id": "da34908c",
   "metadata": {
    "colab": {
     "base_uri": "https://localhost:8080/",
     "height": 1000
    },
    "id": "da34908c",
    "outputId": "06be3d3f-9d17-4bc3-d0f0-802b62dfa166",
    "scrolled": true
   },
   "outputs": [],
   "source": [
    "# Show some images\n",
    "\n",
    "patch = 250 # patch number\n",
    "\n",
    "print(\"Channels from patch no. \" + str(patch))\n",
    "print(\"Central pixel is labeled as \" + class_names[lulc[patch]])\n",
    "\n",
    "for month in range(12):\n",
    "    plt.figure(figsize=(10, 10))\n",
    "    for channel in range(6): #show all six channels\n",
    "        ax = plt.subplot(3, 3, channel+1)\n",
    "        image = bands[patch, month, :, :, channel]\n",
    "        plt.imshow(image, cmap = plt.cm.binary)\n",
    "        plt.title(\"Channel: \" + channel_names[channel+1])\n",
    "        plt.suptitle(calendar.month_name[month+1], size=16)\n",
    "        plt.axis(\"off\")"
   ]
  },
  {
   "cell_type": "markdown",
   "id": "dfb8d216",
   "metadata": {
    "id": "dfb8d216"
   },
   "source": [
    "**Build 3D CNN Model from scratch**\n",
    "\n",
    "adapted by: https://towardsdatascience.com/step-by-step-implementation-3d-convolutional-neural-network-in-keras-12efbdd7b130"
   ]
  },
  {
   "cell_type": "code",
   "execution_count": null,
   "id": "3d1f5fa6",
   "metadata": {
    "colab": {
     "base_uri": "https://localhost:8080/"
    },
    "id": "3d1f5fa6",
    "outputId": "fbe1655b-0355-4ade-95e9-d00c975612b2"
   },
   "outputs": [],
   "source": [
    "base_model = Sequential() # sequential model\n",
    "base_model.add(Conv3D(32, kernel_size=(3, 3, 3), activation='relu', kernel_initializer='he_uniform', input_shape=(12,33,33,6)))\n",
    "base_model.add(MaxPooling3D(pool_size=(2, 2, 2)))\n",
    "base_model.add(BatchNormalization(center=True, scale=True))\n",
    "base_model.add(Dropout(0.5))\n",
    "base_model.add(Conv3D(64, kernel_size=(3, 3, 3), activation='relu', kernel_initializer='he_uniform'))\n",
    "base_model.add(MaxPooling3D(pool_size=(2, 2, 2)))\n",
    "base_model.add(BatchNormalization(center=True, scale=True))\n",
    "base_model.add(Dropout(0.5))\n",
    "base_model.add(Flatten())\n",
    "base_model.add(Dense(256, activation=tf.keras.layers.LeakyReLU(alpha=0.1), kernel_initializer='he_uniform')) #leaky relu and not standard one\n",
    "base_model.add(Dense(256, activation=tf.keras.layers.LeakyReLU(alpha=0.1), kernel_initializer='he_uniform')) #leaky relu and not standard one\n",
    "base_model.add(Dense(11, activation='softmax')) # number of outputs, in our case eleven different classes"
   ]
  },
  {
   "cell_type": "code",
   "execution_count": null,
   "id": "3a5975d9",
   "metadata": {},
   "outputs": [],
   "source": [
    "# Compile the base_model\n",
    "base_model.compile(loss='sparse_categorical_crossentropy', optimizer='adam', metrics=['accuracy'])\n",
    "base_model.summary()"
   ]
  },
  {
   "cell_type": "markdown",
   "id": "9a914c2c",
   "metadata": {
    "id": "9a914c2c"
   },
   "source": [
    "**Calculate class weights automatically** "
   ]
  },
  {
   "cell_type": "code",
   "execution_count": null,
   "id": "90976991",
   "metadata": {
    "id": "90976991"
   },
   "outputs": [],
   "source": [
    "class_weights_array = class_weight.compute_class_weight('balanced',\n",
    "                                                 np.unique(y_train),\n",
    "                                                 y_train)\n",
    "#automatic conversion to dictionarry does not work since not represented \n",
    "#classes are not included in the class_weights array\n",
    "\n",
    "class_weights_dict = {\n",
    "    0: class_weights_array[0],\n",
    "    1: class_weights_array[1],\n",
    "    2: class_weights_array[2],\n",
    "    3: class_weights_array[3],\n",
    "    4: class_weights_array[4],\n",
    "    5: class_weights_array[5],\n",
    "    6: 0,\n",
    "    7: 0,\n",
    "    8: class_weights_array[6],\n",
    "    9: class_weights_array[7],\n",
    "    10: 0,\n",
    "}\n",
    "\n",
    "print(class_weights_dict)"
   ]
  },
  {
   "cell_type": "markdown",
   "id": "2819dc3d",
   "metadata": {
    "id": "2819dc3d"
   },
   "source": [
    "**Split data into train, validation and test data**"
   ]
  },
  {
   "cell_type": "code",
   "execution_count": null,
   "id": "aaed0901",
   "metadata": {
    "id": "aaed0901"
   },
   "outputs": [],
   "source": [
    "X = bands\n",
    "y = lulc\n",
    "X_train_all, X_test, y_train_all, y_test = train_test_split(X, y, test_size=0.20, random_state=42)\n",
    "X_train, X_val, y_train, y_val = train_test_split(X_train_all, y_train_all, test_size=0.20)"
   ]
  },
  {
   "cell_type": "markdown",
   "id": "763b2191",
   "metadata": {},
   "source": [
    "**Fitting Models**"
   ]
  },
  {
   "cell_type": "code",
   "execution_count": null,
   "id": "c07424ad",
   "metadata": {
    "colab": {
     "base_uri": "https://localhost:8080/",
     "height": 130
    },
    "id": "c07424ad",
    "outputId": "3f66e8fd-6518-4446-eef7-661fb34f6a38"
   },
   "outputs": [],
   "source": [
    "%%script false\n",
    "history = base_model.fit(X_train, y_train, epochs=5, batch_size=32, \n",
    "                    validation_data=(X_val, y_val),\n",
    "                    class_weight=class_weights_dict)"
   ]
  },
  {
   "cell_type": "code",
   "execution_count": null,
   "id": "0990405d",
   "metadata": {
    "id": "0990405d"
   },
   "outputs": [],
   "source": [
    "%%script false\n",
    "#model.save('../modelels/trainingData_5Epochs.h5') # save model in root directory\n",
    "#model = keras.models.load_model('../modelels/trainingData_5Epochs.h5')"
   ]
  },
  {
   "cell_type": "markdown",
   "id": "ee0ff6ad",
   "metadata": {
    "id": "ee0ff6ad"
   },
   "source": [
    "**Evaluation**"
   ]
  },
  {
   "cell_type": "code",
   "execution_count": null,
   "id": "2d095da8",
   "metadata": {
    "id": "2d095da8"
   },
   "outputs": [],
   "source": [
    "%%script false\n",
    "# Calculate loss and accuracy\n",
    "base_model.evaluate(X_test, y_test)\n",
    "#63/63 [==============================] - 18s 288ms/step - loss: 0.8801 - accuracy: 0.6990\n",
    "\n",
    "# Predicitions with test-set\n",
    "y_pred = base_model.predict_classes(X_test)\n",
    "plt.figure(figsize=(10, 10))\n",
    "print(\"Predictions of Channel Red in January for nine test pictures:\")\n",
    "for i in range(9):\n",
    "    ax = plt.subplot(3, 3, i + 1)\n",
    "    plt.imshow(X_test[i, 0, :, :, 0], cmap = plt.cm.binary)\n",
    "    plt.title(\"Predicition: \" + str(y_pred[i]) + \"; True label: \" + str(y_test[i]))\n",
    "    plt.axis(\"off\")"
   ]
  },
  {
   "cell_type": "code",
   "execution_count": null,
   "id": "324f8b8a",
   "metadata": {
    "id": "77dde411"
   },
   "outputs": [],
   "source": [
    "%%script false\n",
    "#Plot accuracy and loss of train and val set\n",
    "plt.figure(figsize=(11,4))\n",
    "plt.subplot(121)\n",
    "plt.plot(history.history['accuracy'], color=\"green\")\n",
    "plt.plot(history.history['val_accuracy'], color=\"blue\")\n",
    "plt.title(\"Accuracy\", fontsize=16)\n",
    "plt.xlabel('epoch')\n",
    "plt.ylabel('accuracy')\n",
    "plt.legend(['train', 'val'], loc='lower right')\n",
    "plt.subplot(122)\n",
    "plt.plot(history.history['loss'], color=\"red\",)\n",
    "plt.plot(history.history['val_loss'], color=\"orange\")\n",
    "plt.title(\"Loss\", fontsize=16)\n",
    "plt.xlabel('epoch')\n",
    "plt.ylabel('loss')\n",
    "plt.legend(['train', 'val'], loc='upper right')\n",
    "plt.show()"
   ]
  },
  {
   "cell_type": "markdown",
   "id": "e65cd20e",
   "metadata": {
    "id": "e65cd20e"
   },
   "source": [
    "**Testing on Public Test Set**"
   ]
  },
  {
   "cell_type": "code",
   "execution_count": null,
   "id": "adbf228c",
   "metadata": {
    "id": "adbf228c"
   },
   "outputs": [],
   "source": [
    "data_public_test = np.load(root_path + '/public_test.npz') # load public test set\n",
    "bands_public_test = data_public_test['bands'] # extract only layer called 'bands'\n",
    "print(bands_public_test.shape)"
   ]
  },
  {
   "cell_type": "code",
   "execution_count": null,
   "id": "50ad6025",
   "metadata": {
    "id": "50ad6025"
   },
   "outputs": [],
   "source": [
    "# Show all 12 monthly images of the public test set\n",
    "\n",
    "for month in range(12):\n",
    "    plt.figure(figsize=(10, 10))\n",
    "    for channel in range(6): #show all six channels\n",
    "        ax = plt.subplot(3, 3, channel+1)\n",
    "        image = bands_public_test[month, :, :, channel]\n",
    "        plt.imshow(image, cmap = plt.cm.binary)\n",
    "        plt.title(\"Channel: \" + channel_names[channel+1])\n",
    "        plt.suptitle(calendar.month_name[month+1], size=16)\n",
    "        plt.axis(\"off\")"
   ]
  },
  {
   "cell_type": "markdown",
   "id": "49736550",
   "metadata": {
    "id": "49736550"
   },
   "source": [
    "**Padding**\n",
    "\n",
    "To be able to use the sliding window approach on the public test set."
   ]
  },
  {
   "cell_type": "code",
   "execution_count": null,
   "id": "10a797da",
   "metadata": {
    "id": "10a797da"
   },
   "outputs": [],
   "source": [
    "bands_public_test_pad = np.zeros(shape=(12, 532, 532, 6)) # get empty array with correct shape\n",
    "\n",
    "# perform padding for all images (months and channels)\n",
    "for month in range(12):\n",
    "    for channel in range(6):\n",
    "        bands_public_test_pad[month, :, :,channel] = np.pad(bands_public_test[month, :, :,channel],\n",
    "                                                            ((16,16),(16,16)), 'constant')\n",
    "        \n",
    "print(bands_public_test_pad.shape)"
   ]
  },
  {
   "cell_type": "markdown",
   "id": "753a19b2",
   "metadata": {},
   "source": [
    "Test padding by printing out the images of the public test set."
   ]
  },
  {
   "cell_type": "code",
   "execution_count": null,
   "id": "24410240",
   "metadata": {},
   "outputs": [],
   "source": [
    "for month in range(12):\n",
    "    plt.figure(figsize=(10, 10))\n",
    "    for channel in range(6): #show all six channels\n",
    "        ax = plt.subplot(3, 3, channel+1)\n",
    "        image = bands_public_test_pad[month, :, :, channel]\n",
    "        plt.imshow(image)\n",
    "        plt.title(\"Channel: \" + channel_names[channel+1])\n",
    "        plt.suptitle(calendar.month_name[month+1], size=16)\n",
    "        plt.axis(\"off\") "
   ]
  },
  {
   "cell_type": "code",
   "execution_count": null,
   "id": "46ce5396",
   "metadata": {
    "id": "46ce5396"
   },
   "outputs": [],
   "source": [
    "# add one dimension to be able feeding our model\n",
    "\n",
    "#bands_public_test = np.expand_dims(bands_public_test, 0)\n",
    "bands_public_test_pad = np.expand_dims(bands_public_test_pad, 0)\n",
    "bands_public_test_pad.shape"
   ]
  },
  {
   "cell_type": "markdown",
   "id": "dd5a2de1",
   "metadata": {
    "id": "dd5a2de1"
   },
   "source": [
    "**Naive sliding window approach**\n",
    "\n",
    "Iterate the model over the whole public test image with stepsize one."
   ]
  },
  {
   "cell_type": "code",
   "execution_count": null,
   "id": "82089500",
   "metadata": {
    "id": "82089500",
    "scrolled": true
   },
   "outputs": [],
   "source": [
    "x_coord_start = 15\n",
    "x_coord_end = x_coord_start + 33\n",
    "\n",
    "#print(current_cutout.shape) #(1, 12, 33, 33, 6)\n",
    "y_pred_public_test = np.zeros(shape=(532, 532, 1)) #468 nachher?\n",
    "\n",
    "for i in range(468):\n",
    "    x_coord_end   += 1\n",
    "    x_coord_start += 1\n",
    "    y_coord_start = 15\n",
    "    y_coord_end = y_coord_start + 33\n",
    "    for j in range(468):\n",
    "        y_coord_end   += 1\n",
    "        y_coord_start += 1\n",
    "        # pass every month & color channel \n",
    "        current_cutout = bands_public_test_pad[:, :, x_coord_start:x_coord_end, y_coord_start:y_coord_end, :]\n",
    "        \n",
    "        y_pred = base_model.predict_classes(current_cutout)\n",
    "        y_pred_public_test[i][j] = y_pred[0]\n",
    "        #print(y_pred_public_test)\n",
    "        \n",
    "        #Debugging\n",
    "        #print(\"i: \"+ str(i) + \"  j: \" + str(j)        + \"  -  \" +\n",
    "        #      str(x_coord_start)+\":\"+str(x_coord_end) + \"; \"    +\n",
    "        #      str(y_coord_start)+\":\"+str(y_coord_end) + \"  -  \" +\n",
    "        #      str(int(y_pred_public_test[i][j])))\n",
    "        #if(current_cutout.shape != (1, 12, 33, 33, 6)): \n",
    "            #print(str(current_cutout.shape) + \"\\n\")"
   ]
  },
  {
   "cell_type": "code",
   "execution_count": null,
   "id": "d85a1a1f",
   "metadata": {},
   "outputs": [],
   "source": [
    "%%script false\n",
    "with open(\"y_pred_public_test.npy\", \"wb\") as f:\n",
    "    np.save(f, y_pred_public_test)"
   ]
  },
  {
   "cell_type": "code",
   "execution_count": null,
   "id": "d901abe8",
   "metadata": {},
   "outputs": [],
   "source": [
    "%%script false\n",
    "with open(\"y_pred_public_test.npy\", \"rb\") as f:\n",
    "    file = np.load(f)\n",
    "file"
   ]
  },
  {
   "cell_type": "markdown",
   "id": "93e295a1",
   "metadata": {},
   "source": [
    "**Visualization of the result for the public test set**\n",
    "\n",
    "Code adapted from https://stackoverflow.com/questions/37719304/python-imshow-set-certain-value-to-defined-color"
   ]
  },
  {
   "cell_type": "code",
   "execution_count": null,
   "id": "696331a3",
   "metadata": {
    "id": "696331a3"
   },
   "outputs": [],
   "source": [
    "color_map = {\n",
    "    0:  np.array([  0,   0,   0]), #0: \"No Data\"\n",
    "    1:  np.array([240, 222,  60]), #1: \"Cultivated Land\"\n",
    "    2:  np.array([ 47, 102,  31]), #2: \"Forest\"\n",
    "    3:  np.array([162, 232, 142]), #3: \"Grassland\"\n",
    "    4:  np.array([162, 176, 158]), #4: \"Shrubland\"\n",
    "    5:  np.array([ 99, 189, 224]), #5: \"Water\"\n",
    "    6:  np.array([ 44, 209, 154]), #6: \"Wetlands\"\n",
    "    7:  np.array([230, 189,  41]), #7: \"Tundra\"\n",
    "    8:  np.array([237,  82,  55]), #8: \"Artificial Surface\"\n",
    "    9:  np.array([224, 180, 132]), #9: \"Bareland\"\n",
    "    10: np.array([189, 189, 189]), #10: \"Snow and Ice\"\n",
    "} \n",
    "\n",
    "# make a 3d numpy array that has a color channel dimension   \n",
    "data_3d = np.ndarray(shape=(file.shape[0], file.shape[1]), dtype=int)\n",
    "for i in range(0, file.shape[0]):\n",
    "    for j in range(0, file.shape[1]):\n",
    "        data_3d[i][j] = color_map[file[j,i,0]]\n",
    "        print(data_3d[i][j])\n",
    "\n",
    "# display the plot \n",
    "fig, ax = plt.subplots(1,1)\n",
    "ax.imshow(data_3d)\n",
    "\n",
    "# add numbers to the plot \n",
    "for i in range(0, file.shape[0]):\n",
    "    for j in range(0, file.shape[1]):\n",
    "        c = file[j,i,0]\n",
    "        ax.text(i, j, str(c), va='center', ha='center')"
   ]
  },
  {
   "cell_type": "code",
   "execution_count": null,
   "id": "6241387a",
   "metadata": {},
   "outputs": [],
   "source": [
    "%%script false\n",
    "print(data_3d.shape)\n",
    "plt.imshow(file, interpolation='none')\n",
    "plt.show()"
   ]
  }
 ],
 "metadata": {
  "accelerator": "GPU",
  "colab": {
   "collapsed_sections": [],
   "name": "Case_Study_Code.ipynb",
   "provenance": []
  },
  "kernelspec": {
   "display_name": "Python 3",
   "language": "python",
   "name": "python3"
  },
  "language_info": {
   "codemirror_mode": {
    "name": "ipython",
    "version": 3
   },
   "file_extension": ".py",
   "mimetype": "text/x-python",
   "name": "python",
   "nbconvert_exporter": "python",
   "pygments_lexer": "ipython3",
   "version": "3.9.1"
  }
 },
 "nbformat": 4,
 "nbformat_minor": 5
}
